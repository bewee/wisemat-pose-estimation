{
 "cells": [
  {
   "cell_type": "code",
   "execution_count": 1,
   "id": "c6a63267",
   "metadata": {},
   "outputs": [],
   "source": [
    "import sys\n",
    "sys.path.append('../')"
   ]
  },
  {
   "cell_type": "code",
   "execution_count": 2,
   "id": "20653479",
   "metadata": {},
   "outputs": [],
   "source": [
    "import pandas as pd\n",
    "import numpy as np\n",
    "import matplotlib.pyplot as plt\n",
    "from lib.viz import plot_mattress\n",
    "from lib.transforms import *"
   ]
  },
  {
   "cell_type": "code",
   "execution_count": 3,
   "id": "86f25bc4",
   "metadata": {},
   "outputs": [
    {
     "data": {
      "text/html": [
       "<div>\n",
       "<style scoped>\n",
       "    .dataframe tbody tr th:only-of-type {\n",
       "        vertical-align: middle;\n",
       "    }\n",
       "\n",
       "    .dataframe tbody tr th {\n",
       "        vertical-align: top;\n",
       "    }\n",
       "\n",
       "    .dataframe thead th {\n",
       "        text-align: right;\n",
       "    }\n",
       "</style>\n",
       "<table border=\"1\" class=\"dataframe\">\n",
       "  <thead>\n",
       "    <tr style=\"text-align: right;\">\n",
       "      <th></th>\n",
       "      <th>pressure_image_ref</th>\n",
       "      <th>skeleton</th>\n",
       "      <th>participant</th>\n",
       "      <th>male</th>\n",
       "      <th>height</th>\n",
       "      <th>mass</th>\n",
       "    </tr>\n",
       "  </thead>\n",
       "  <tbody>\n",
       "    <tr>\n",
       "      <th>0</th>\n",
       "      <td>SLP/refs/danaLab_00001_uncover_000001</td>\n",
       "      <td>[[0.26184400212746206, 0.11831019393385456], [...</td>\n",
       "      <td>1</td>\n",
       "      <td>True</td>\n",
       "      <td>173.0</td>\n",
       "      <td>80.00</td>\n",
       "    </tr>\n",
       "    <tr>\n",
       "      <th>1</th>\n",
       "      <td>SLP/refs/danaLab_00001_uncover_000002</td>\n",
       "      <td>[[0.2530231618464142, 0.11957573787863973], [0...</td>\n",
       "      <td>1</td>\n",
       "      <td>False</td>\n",
       "      <td>165.0</td>\n",
       "      <td>51.38</td>\n",
       "    </tr>\n",
       "    <tr>\n",
       "      <th>2</th>\n",
       "      <td>SLP/refs/danaLab_00001_uncover_000003</td>\n",
       "      <td>[[0.5136172562410538, 0.2490595614662422], [0....</td>\n",
       "      <td>1</td>\n",
       "      <td>True</td>\n",
       "      <td>170.0</td>\n",
       "      <td>58.20</td>\n",
       "    </tr>\n",
       "    <tr>\n",
       "      <th>3</th>\n",
       "      <td>SLP/refs/danaLab_00001_uncover_000004</td>\n",
       "      <td>[[0.5105522468626795, 0.25297283581941166], [0...</td>\n",
       "      <td>1</td>\n",
       "      <td>True</td>\n",
       "      <td>175.0</td>\n",
       "      <td>63.90</td>\n",
       "    </tr>\n",
       "    <tr>\n",
       "      <th>4</th>\n",
       "      <td>SLP/refs/danaLab_00001_uncover_000005</td>\n",
       "      <td>[[0.20571643283583896, 0.13244152638730033], [...</td>\n",
       "      <td>1</td>\n",
       "      <td>True</td>\n",
       "      <td>168.0</td>\n",
       "      <td>54.04</td>\n",
       "    </tr>\n",
       "    <tr>\n",
       "      <th>...</th>\n",
       "      <td>...</td>\n",
       "      <td>...</td>\n",
       "      <td>...</td>\n",
       "      <td>...</td>\n",
       "      <td>...</td>\n",
       "      <td>...</td>\n",
       "    </tr>\n",
       "    <tr>\n",
       "      <th>13765</th>\n",
       "      <td>SLP/refs/danaLab_00102_cover2_000041</td>\n",
       "      <td>[[0.4531433912665901, 0.253881967935384], [0.2...</td>\n",
       "      <td>102</td>\n",
       "      <td>True</td>\n",
       "      <td>169.0</td>\n",
       "      <td>64.05</td>\n",
       "    </tr>\n",
       "    <tr>\n",
       "      <th>13766</th>\n",
       "      <td>SLP/refs/danaLab_00102_cover2_000042</td>\n",
       "      <td>[[0.5261982497379233, 0.27647879571600864], [0...</td>\n",
       "      <td>102</td>\n",
       "      <td>False</td>\n",
       "      <td>165.0</td>\n",
       "      <td>62.00</td>\n",
       "    </tr>\n",
       "    <tr>\n",
       "      <th>13767</th>\n",
       "      <td>SLP/refs/danaLab_00102_cover2_000043</td>\n",
       "      <td>[[0.39999098775974123, 0.2457794130872052], [0...</td>\n",
       "      <td>102</td>\n",
       "      <td>True</td>\n",
       "      <td>175.0</td>\n",
       "      <td>62.50</td>\n",
       "    </tr>\n",
       "    <tr>\n",
       "      <th>13768</th>\n",
       "      <td>SLP/refs/danaLab_00102_cover2_000044</td>\n",
       "      <td>[[0.4100555353502367, 0.26333384456835374], [0...</td>\n",
       "      <td>102</td>\n",
       "      <td>False</td>\n",
       "      <td>163.5</td>\n",
       "      <td>52.10</td>\n",
       "    </tr>\n",
       "    <tr>\n",
       "      <th>13769</th>\n",
       "      <td>SLP/refs/danaLab_00102_cover2_000045</td>\n",
       "      <td>[[0.2995990583029816, 0.26274202009494907], [0...</td>\n",
       "      <td>102</td>\n",
       "      <td>False</td>\n",
       "      <td>166.0</td>\n",
       "      <td>61.95</td>\n",
       "    </tr>\n",
       "  </tbody>\n",
       "</table>\n",
       "<p>13770 rows × 6 columns</p>\n",
       "</div>"
      ],
      "text/plain": [
       "                          pressure_image_ref  \\\n",
       "0      SLP/refs/danaLab_00001_uncover_000001   \n",
       "1      SLP/refs/danaLab_00001_uncover_000002   \n",
       "2      SLP/refs/danaLab_00001_uncover_000003   \n",
       "3      SLP/refs/danaLab_00001_uncover_000004   \n",
       "4      SLP/refs/danaLab_00001_uncover_000005   \n",
       "...                                      ...   \n",
       "13765   SLP/refs/danaLab_00102_cover2_000041   \n",
       "13766   SLP/refs/danaLab_00102_cover2_000042   \n",
       "13767   SLP/refs/danaLab_00102_cover2_000043   \n",
       "13768   SLP/refs/danaLab_00102_cover2_000044   \n",
       "13769   SLP/refs/danaLab_00102_cover2_000045   \n",
       "\n",
       "                                                skeleton  participant   male  \\\n",
       "0      [[0.26184400212746206, 0.11831019393385456], [...            1   True   \n",
       "1      [[0.2530231618464142, 0.11957573787863973], [0...            1  False   \n",
       "2      [[0.5136172562410538, 0.2490595614662422], [0....            1   True   \n",
       "3      [[0.5105522468626795, 0.25297283581941166], [0...            1   True   \n",
       "4      [[0.20571643283583896, 0.13244152638730033], [...            1   True   \n",
       "...                                                  ...          ...    ...   \n",
       "13765  [[0.4531433912665901, 0.253881967935384], [0.2...          102   True   \n",
       "13766  [[0.5261982497379233, 0.27647879571600864], [0...          102  False   \n",
       "13767  [[0.39999098775974123, 0.2457794130872052], [0...          102   True   \n",
       "13768  [[0.4100555353502367, 0.26333384456835374], [0...          102  False   \n",
       "13769  [[0.2995990583029816, 0.26274202009494907], [0...          102  False   \n",
       "\n",
       "       height   mass  \n",
       "0       173.0  80.00  \n",
       "1       165.0  51.38  \n",
       "2       170.0  58.20  \n",
       "3       175.0  63.90  \n",
       "4       168.0  54.04  \n",
       "...       ...    ...  \n",
       "13765   169.0  64.05  \n",
       "13766   165.0  62.00  \n",
       "13767   175.0  62.50  \n",
       "13768   163.5  52.10  \n",
       "13769   166.0  61.95  \n",
       "\n",
       "[13770 rows x 6 columns]"
      ]
     },
     "execution_count": 3,
     "metadata": {},
     "output_type": "execute_result"
    }
   ],
   "source": [
    "df = pd.read_pickle('SLP/full-data.pkl')\n",
    "df['pressure_image_ref'] = df['pressure_image_ref'].map(lambda x: f\"SLP/{x}\")\n",
    "df"
   ]
  },
  {
   "cell_type": "code",
   "execution_count": 4,
   "id": "101ed6b1",
   "metadata": {},
   "outputs": [],
   "source": [
    "SAMPLE = 0\n",
    "im = torch.Tensor(np.load(df.iloc[SAMPLE][\"pressure_image_ref\"]+\".npy\"))"
   ]
  },
  {
   "cell_type": "code",
   "execution_count": 5,
   "id": "1c8537d4",
   "metadata": {},
   "outputs": [],
   "source": [
    "kwargs = dict(cbar=False, xticklabels=False, yticklabels=False, vmin=0, vmax=1)"
   ]
  },
  {
   "cell_type": "code",
   "execution_count": 6,
   "id": "1a470eda",
   "metadata": {},
   "outputs": [
    {
     "data": {
      "text/plain": [
       "<AxesSubplot:>"
      ]
     },
     "execution_count": 6,
     "metadata": {},
     "output_type": "execute_result"
    },
    {
     "data": {
      "image/png": "[encoded data removed]",
      "text/plain": [
       "<Figure size 432x288 with 1 Axes>"
      ]
     },
     "metadata": {},
     "output_type": "display_data"
    }
   ],
   "source": [
    "plot_mattress(im/400, **kwargs)"
   ]
  },
  {
   "cell_type": "code",
   "execution_count": 7,
   "id": "07915117",
   "metadata": {},
   "outputs": [
    {
     "data": {
      "text/plain": [
       "<AxesSubplot:>"
      ]
     },
     "execution_count": 7,
     "metadata": {},
     "output_type": "execute_result"
    },
    {
     "data": {
      "image/png": "[encoded data removed]",
      "text/plain": [
       "<Figure size 432x288 with 1 Axes>"
      ]
     },
     "metadata": {},
     "output_type": "display_data"
    }
   ],
   "source": [
    "plot_mattress(MinMaxNormalize()(im), **kwargs)"
   ]
  },
  {
   "cell_type": "code",
   "execution_count": 8,
   "id": "ccae8d74",
   "metadata": {},
   "outputs": [
    {
     "data": {
      "text/plain": [
       "<AxesSubplot:>"
      ]
     },
     "execution_count": 8,
     "metadata": {},
     "output_type": "execute_result"
    },
    {
     "data": {
      "image/png": "[encoded data removed]",
      "text/plain": [
       "<Figure size 432x288 with 1 Axes>"
      ]
     },
     "metadata": {},
     "output_type": "display_data"
    }
   ],
   "source": [
    "plot_mattress(StdMeanNormalize()(im), **kwargs)"
   ]
  },
  {
   "cell_type": "code",
   "execution_count": 9,
   "id": "e509e0b4",
   "metadata": {},
   "outputs": [
    {
     "data": {
      "text/plain": [
       "<AxesSubplot:>"
      ]
     },
     "execution_count": 9,
     "metadata": {},
     "output_type": "execute_result"
    },
    {
     "data": {
      "image/png": "[encoded data removed]",
      "text/plain": [
       "<Figure size 432x288 with 1 Axes>"
      ]
     },
     "metadata": {},
     "output_type": "display_data"
    }
   ],
   "source": [
    "plot_mattress(Boolean()(im), **kwargs)"
   ]
  },
  {
   "cell_type": "code",
   "execution_count": 10,
   "id": "3d771d91",
   "metadata": {},
   "outputs": [
    {
     "data": {
      "text/plain": [
       "<AxesSubplot:>"
      ]
     },
     "execution_count": 10,
     "metadata": {},
     "output_type": "execute_result"
    },
    {
     "data": {
      "image/png": "[encoded data removed]",
      "text/plain": [
       "<Figure size 432x288 with 1 Axes>"
      ]
     },
     "metadata": {},
     "output_type": "display_data"
    }
   ],
   "source": [
    "plot_mattress(HistogramEqualize()(im), **kwargs)"
   ]
  },
  {
   "cell_type": "code",
   "execution_count": 11,
   "id": "d7478ad5",
   "metadata": {},
   "outputs": [
    {
     "data": {
      "text/plain": [
       "<AxesSubplot:>"
      ]
     },
     "execution_count": 11,
     "metadata": {},
     "output_type": "execute_result"
    },
    {
     "data": {
      "image/png": "[encoded data removed]",
      "text/plain": [
       "<Figure size 432x288 with 1 Axes>"
      ]
     },
     "metadata": {},
     "output_type": "display_data"
    }
   ],
   "source": [
    "plot_mattress(SobelFilter()(im), cbar=False, xticklabels=False, yticklabels=False, vmin=0.0, vmax=0.5)"
   ]
  },
  {
   "cell_type": "code",
   "execution_count": null,
   "id": "b3df4af8",
   "metadata": {},
   "outputs": [],
   "source": []
  }
 ],
 "metadata": {
  "kernelspec": {
   "display_name": "Python 3 (ipykernel)",
   "language": "python",
   "name": "python3"
  },
  "language_info": {
   "codemirror_mode": {
    "name": "ipython",
    "version": 3
   },
   "file_extension": ".py",
   "mimetype": "text/x-python",
   "name": "python",
   "nbconvert_exporter": "python",
   "pygments_lexer": "ipython3",
   "version": "3.9.6"
  }
 },
 "nbformat": 4,
 "nbformat_minor": 5
}
