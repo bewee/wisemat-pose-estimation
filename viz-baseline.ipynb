{
 "cells": [
  {
   "cell_type": "code",
   "execution_count": 1,
   "id": "09735b6b",
   "metadata": {},
   "outputs": [],
   "source": [
    "import sys\n",
    "sys.path.append('.')"
   ]
  },
  {
   "cell_type": "code",
   "execution_count": 2,
   "id": "453c3792",
   "metadata": {},
   "outputs": [],
   "source": [
    "import importlib\n",
    "import numpy as np\n",
    "import matplotlib.pyplot as plt\n",
    "import torch\n",
    "from torch.utils.data import DataLoader\n",
    "from lib.viz import plot_mattress, plot_skeleton\n",
    "from lib.datamodule import PressurePoseDataModule, BodiesAtRestDataModule, SLPDataModule, SoftlineDataModule\n",
    "from lib.F import mpjpe, per_joint_mean_position_errors, per_joint_position_errors, pcp, per_part_correct_percentage, pck, per_keypoint_correct_percentage\n",
    "from lib.transforms import SkeletonCleverToCommon, SkeletonSLPToCommon\n",
    "from lib.constants import constants"
   ]
  },
  {
   "cell_type": "code",
   "execution_count": 3,
   "id": "ffd14a00",
   "metadata": {},
   "outputs": [],
   "source": [
    "net = importlib.import_module(\"baseline\").Baseline()"
   ]
  },
  {
   "cell_type": "code",
   "execution_count": 4,
   "id": "51a3bf76",
   "metadata": {},
   "outputs": [
    {
     "data": {
      "text/plain": [
       "<AxesSubplot:>"
      ]
     },
     "execution_count": 4,
     "metadata": {},
     "output_type": "execute_result"
    },
    {
     "data": {
      "image/png": "[encoded data removed]",
      "text/plain": [
       "<Figure size 720x720 with 2 Axes>"
      ]
     },
     "metadata": {
      "needs_background": "light"
     },
     "output_type": "display_data"
    }
   ],
   "source": [
    "plt.gcf().set_size_inches(10, 10)\n",
    "ax = plot_mattress(np.zeros((64, 27)), margin=5, border='blue', vmin=0, vmax=1)\n",
    "plot_skeleton(net.skel, margin=5, show_z=False, show_labels=False, ax=ax)"
   ]
  },
  {
   "cell_type": "code",
   "execution_count": 5,
   "id": "abb06a66",
   "metadata": {},
   "outputs": [],
   "source": [
    "SET = 'TEST'"
   ]
  },
  {
   "cell_type": "code",
   "execution_count": 6,
   "id": "9c40292c",
   "metadata": {},
   "outputs": [],
   "source": [
    "def evaluate():\n",
    "    global net, dm, X, y, y_hat\n",
    "    dm.setup()\n",
    "    val_data = next(iter(DataLoader(dm.test_set if SET == 'test' else dm.val_set, batch_size=len(dm.val_set))))\n",
    "    X = val_data[0]\n",
    "    y = val_data[1]\n",
    "    y_hat = net(X).detach()"
   ]
  },
  {
   "cell_type": "code",
   "execution_count": 7,
   "id": "5d368223",
   "metadata": {},
   "outputs": [],
   "source": [
    "JOINT_REMAPPING = [12, 9, 8, 3, 2, 4, 1, 5, 0, 10, 7, 11, 6]\n",
    "PART_REMAPPING = [2, 1, 3, 0, 6, 5, 7, 4]"
   ]
  },
  {
   "cell_type": "code",
   "execution_count": 8,
   "id": "f06bbe36",
   "metadata": {},
   "outputs": [],
   "source": [
    "def print_metrics():\n",
    "    global y, y_hat\n",
    "    pjpe = per_joint_position_errors(y_hat, y)\n",
    "    print(f\"Mean per-joint position error: {mpjpe(y_hat, y)} cm ± {torch.std(pjpe)} cm\")\n",
    "    print(f\"PCP: {pcp(y_hat, y)*100} %\")\n",
    "    print(f\"PCK: {pck(y_hat, y)*100} %\")\n",
    "    pjmpe = per_joint_mean_position_errors(y_hat, y)\n",
    "    for index in range(constants.JOINTS):\n",
    "        i = JOINT_REMAPPING[index]\n",
    "        print(f\"Mean position error for {constants.LABELS[i]}: {pjmpe[i]} cm ± {torch.std(pjpe[i])} cm\")\n",
    "    ppcp = per_part_correct_percentage(y_hat, y)\n",
    "    for index in range(len(constants.PARTS)):\n",
    "        i = PART_REMAPPING[index]\n",
    "        print(f\"Percentage of correct {constants.PARTS[i]}s: {ppcp[i]*100} %\")\n",
    "    pkcp = per_keypoint_correct_percentage(y_hat, y)\n",
    "    for index in range(constants.JOINTS):\n",
    "        i = JOINT_REMAPPING[index]\n",
    "        print(f\"Percentage of correct {constants.LABELS[i]}s: {pkcp[i]*100} %\")"
   ]
  },
  {
   "cell_type": "markdown",
   "id": "c3df20cc",
   "metadata": {},
   "source": [
    "# Validation Dataset"
   ]
  },
  {
   "cell_type": "code",
   "execution_count": 9,
   "id": "a9ce3168",
   "metadata": {},
   "outputs": [],
   "source": [
    "dm = PressurePoseDataModule()\n",
    "evaluate()"
   ]
  },
  {
   "cell_type": "code",
   "execution_count": 10,
   "id": "870f136f",
   "metadata": {},
   "outputs": [
    {
     "name": "stdout",
     "output_type": "stream",
     "text": [
      "Mean per-joint position error: 19.082925024031024 cm ± 11.338062825203496 cm\n",
      "PCP: 33.1944465637207 %\n",
      "PCK: 29.333332061767578 %\n",
      "Mean position error for Thorax: 9.94975270952782 cm ± 6.260175438786541 cm\n",
      "Mean position error for Left shoulder: 13.299089025363315 cm ± 6.574282608040741 cm\n",
      "Mean position error for Right shoulder: 13.304492332150996 cm ± 6.125072330755431 cm\n",
      "Mean position error for Left hip: 10.265846013890842 cm ± 4.237509084026064 cm\n",
      "Mean position error for Right hip: 11.729931007112606 cm ± 4.748196435730977 cm\n",
      "Mean position error for Left knee: 20.07207680682044 cm ± 12.441610605024481 cm\n",
      "Mean position error for Right knee: 21.346941157604437 cm ± 11.617374528514674 cm\n",
      "Mean position error for Left ankle: 20.485641526337552 cm ± 10.51892495715966 cm\n",
      "Mean position error for Right ankle: 20.83542930469959 cm ± 9.95747014863791 cm\n",
      "Mean position error for Left elbow: 22.97738476676092 cm ± 9.520850632097847 cm\n",
      "Mean position error for Right elbow: 23.270230738091385 cm ± 9.173878428755721 cm\n",
      "Mean position error for Left wrist: 29.97762540895426 cm ± 11.249983695034064 cm\n",
      "Mean position error for Right wrist: 30.563584515089136 cm ± 11.581235046007906 cm\n",
      "Percentage of correct Left upper legs: 68.22222137451172 %\n",
      "Percentage of correct Right upper legs: 58.4444465637207 %\n",
      "Percentage of correct Left lower legs: 45.55555725097656 %\n",
      "Percentage of correct Right lower legs: 38.222225189208984 %\n",
      "Percentage of correct Left upper arms: 21.33333396911621 %\n",
      "Percentage of correct Right upper arms: 29.55555534362793 %\n",
      "Percentage of correct Left forearms: 2.6666667461395264 %\n",
      "Percentage of correct Right forearms: 1.5555555820465088 %\n",
      "Percentage of correct Thoraxs: 66.66667175292969 %\n",
      "Percentage of correct Left shoulders: 42.0 %\n",
      "Percentage of correct Right shoulders: 38.222225189208984 %\n",
      "Percentage of correct Left hips: 64.22222137451172 %\n",
      "Percentage of correct Right hips: 47.77777862548828 %\n",
      "Percentage of correct Left knees: 26.44444465637207 %\n",
      "Percentage of correct Right knees: 21.11111068725586 %\n",
      "Percentage of correct Left ankles: 20.22222328186035 %\n",
      "Percentage of correct Right ankles: 17.77777862548828 %\n",
      "Percentage of correct Left elbows: 11.333333969116211 %\n",
      "Percentage of correct Right elbows: 10.0 %\n",
      "Percentage of correct Left wrists: 8.666666984558105 %\n",
      "Percentage of correct Right wrists: 6.888888835906982 %\n"
     ]
    }
   ],
   "source": [
    "print_metrics()"
   ]
  },
  {
   "cell_type": "markdown",
   "id": "34fe43c5",
   "metadata": {},
   "source": [
    "# Bodies-at-Rest Dataset"
   ]
  },
  {
   "cell_type": "code",
   "execution_count": 11,
   "id": "793fb15c",
   "metadata": {},
   "outputs": [],
   "source": [
    "dm = BodiesAtRestDataModule(target_transform=SkeletonCleverToCommon())\n",
    "evaluate()"
   ]
  },
  {
   "cell_type": "code",
   "execution_count": 12,
   "id": "361c4bd5",
   "metadata": {},
   "outputs": [
    {
     "name": "stdout",
     "output_type": "stream",
     "text": [
      "Mean per-joint position error: 28.987747000601917 cm ± 17.10306331320051 cm\n",
      "PCP: 16.50969886779785 %\n",
      "PCK: 14.049736022949219 %\n",
      "Mean position error for Thorax: 19.587872667972928 cm ± 9.474128508244187 cm\n",
      "Mean position error for Left shoulder: 20.647291998087436 cm ± 10.188506557883084 cm\n",
      "Mean position error for Right shoulder: 20.870522163114426 cm ± 10.09868803441013 cm\n",
      "Mean position error for Left hip: 16.649236516799494 cm ± 7.157098861116648 cm\n",
      "Mean position error for Right hip: 16.68643581137451 cm ± 7.0369697337199 cm\n",
      "Mean position error for Left knee: 24.410257540898375 cm ± 11.93363260238922 cm\n",
      "Mean position error for Right knee: 24.28043874074584 cm ± 11.8188721865224 cm\n",
      "Mean position error for Left ankle: 34.49063191190226 cm ± 16.507726669349257 cm\n",
      "Mean position error for Right ankle: 34.302426652130784 cm ± 16.66291856321333 cm\n",
      "Mean position error for Left elbow: 33.198915195177555 cm ± 14.60724084330865 cm\n",
      "Mean position error for Right elbow: 32.892307207208475 cm ± 14.788350263435332 cm\n",
      "Mean position error for Left wrist: 52.30525736285829 cm ± 18.269177000688533 cm\n",
      "Mean position error for Right wrist: 46.519117239554554 cm ± 17.188437475432412 cm\n",
      "Percentage of correct Left upper legs: 40.33620834350586 %\n",
      "Percentage of correct Right upper legs: 41.431034088134766 %\n",
      "Percentage of correct Left lower legs: 17.724138259887695 %\n",
      "Percentage of correct Right lower legs: 17.767242431640625 %\n",
      "Percentage of correct Left upper arms: 6.810344696044922 %\n",
      "Percentage of correct Right upper arms: 6.698276042938232 %\n",
      "Percentage of correct Left forearms: 0.8793103694915771 %\n",
      "Percentage of correct Right forearms: 0.43103447556495667 %\n",
      "Percentage of correct Thoraxs: 22.84482765197754 %\n",
      "Percentage of correct Left shoulders: 22.09482765197754 %\n",
      "Percentage of correct Right shoulders: 21.224138259887695 %\n",
      "Percentage of correct Left hips: 26.879310607910156 %\n",
      "Percentage of correct Right hips: 26.508621215820312 %\n",
      "Percentage of correct Left knees: 15.57758617401123 %\n",
      "Percentage of correct Right knees: 15.715517044067383 %\n",
      "Percentage of correct Left ankles: 7.077585697174072 %\n",
      "Percentage of correct Right ankles: 7.318965435028076 %\n",
      "Percentage of correct Left elbows: 6.836207389831543 %\n",
      "Percentage of correct Right elbows: 7.534482955932617 %\n",
      "Percentage of correct Left wrists: 1.3275861740112305 %\n",
      "Percentage of correct Right wrists: 1.7068965435028076 %\n"
     ]
    }
   ],
   "source": [
    "print_metrics()"
   ]
  },
  {
   "cell_type": "markdown",
   "id": "539d1a29",
   "metadata": {},
   "source": [
    "# SLP Dataset"
   ]
  },
  {
   "cell_type": "code",
   "execution_count": 13,
   "id": "3f4c7b08",
   "metadata": {},
   "outputs": [],
   "source": [
    "dm = SLPDataModule(target_transform=SkeletonSLPToCommon())\n",
    "evaluate()"
   ]
  },
  {
   "cell_type": "code",
   "execution_count": 14,
   "id": "83dafa10",
   "metadata": {},
   "outputs": [
    {
     "name": "stdout",
     "output_type": "stream",
     "text": [
      "Mean per-joint position error: 19.082925024031024 cm ± 11.33806282520345 cm\n",
      "PCP: 33.1944465637207 %\n",
      "PCK: 29.333332061767578 %\n",
      "Mean position error for Thorax: 9.949752709527818 cm ± 6.260175438786539 cm\n",
      "Mean position error for Left shoulder: 13.299089025363315 cm ± 6.5742826080407495 cm\n",
      "Mean position error for Right shoulder: 13.304492332150996 cm ± 6.1250723307554304 cm\n",
      "Mean position error for Left hip: 10.265846013890842 cm ± 4.2375090840260645 cm\n",
      "Mean position error for Right hip: 11.729931007112608 cm ± 4.7481964357309705 cm\n",
      "Mean position error for Left knee: 20.07207680682044 cm ± 12.441610605024486 cm\n",
      "Mean position error for Right knee: 21.346941157604434 cm ± 11.617374528514677 cm\n",
      "Mean position error for Left ankle: 20.485641526337552 cm ± 10.51892495715966 cm\n",
      "Mean position error for Right ankle: 20.83542930469959 cm ± 9.957470148637912 cm\n",
      "Mean position error for Left elbow: 22.97738476676092 cm ± 9.520850632097837 cm\n",
      "Mean position error for Right elbow: 23.27023073809139 cm ± 9.173878428755707 cm\n",
      "Mean position error for Left wrist: 29.977625408954268 cm ± 11.249983695034075 cm\n",
      "Mean position error for Right wrist: 30.563584515089136 cm ± 11.581235046007928 cm\n",
      "Percentage of correct Left upper legs: 68.22222137451172 %\n",
      "Percentage of correct Right upper legs: 58.4444465637207 %\n",
      "Percentage of correct Left lower legs: 45.55555725097656 %\n",
      "Percentage of correct Right lower legs: 38.222225189208984 %\n",
      "Percentage of correct Left upper arms: 21.33333396911621 %\n",
      "Percentage of correct Right upper arms: 29.55555534362793 %\n",
      "Percentage of correct Left forearms: 2.6666667461395264 %\n",
      "Percentage of correct Right forearms: 1.5555555820465088 %\n",
      "Percentage of correct Thoraxs: 66.66667175292969 %\n",
      "Percentage of correct Left shoulders: 42.0 %\n",
      "Percentage of correct Right shoulders: 38.222225189208984 %\n",
      "Percentage of correct Left hips: 64.22222137451172 %\n",
      "Percentage of correct Right hips: 47.77777862548828 %\n",
      "Percentage of correct Left knees: 26.44444465637207 %\n",
      "Percentage of correct Right knees: 21.11111068725586 %\n",
      "Percentage of correct Left ankles: 20.22222328186035 %\n",
      "Percentage of correct Right ankles: 17.77777862548828 %\n",
      "Percentage of correct Left elbows: 11.333333969116211 %\n",
      "Percentage of correct Right elbows: 10.0 %\n",
      "Percentage of correct Left wrists: 8.666666984558105 %\n",
      "Percentage of correct Right wrists: 6.888888835906982 %\n"
     ]
    }
   ],
   "source": [
    "print_metrics()"
   ]
  },
  {
   "cell_type": "markdown",
   "id": "87a266d9",
   "metadata": {},
   "source": [
    "# Softline dataset"
   ]
  },
  {
   "cell_type": "code",
   "execution_count": 15,
   "id": "81ec6d32",
   "metadata": {},
   "outputs": [],
   "source": [
    "dm = SoftlineDataModule()\n",
    "evaluate()"
   ]
  },
  {
   "cell_type": "code",
   "execution_count": 16,
   "id": "71c3e446",
   "metadata": {},
   "outputs": [
    {
     "name": "stdout",
     "output_type": "stream",
     "text": [
      "Mean per-joint position error: 18.647540607245872 cm ± 8.267374719568641 cm\n",
      "PCP: 46.999996185302734 %\n",
      "PCK: 19.69230842590332 %\n",
      "Mean position error for Thorax: 12.66521519839407 cm ± 5.430345946691149 cm\n",
      "Mean position error for Left shoulder: 16.58851504523234 cm ± 6.207970074616458 cm\n",
      "Mean position error for Right shoulder: 15.719723274209732 cm ± 4.6777365169011995 cm\n",
      "Mean position error for Left hip: 13.820175810171708 cm ± 3.710672980749075 cm\n",
      "Mean position error for Right hip: 15.423669345036068 cm ± 3.380698612236207 cm\n",
      "Mean position error for Left knee: 16.684314554618567 cm ± 5.653554762811356 cm\n",
      "Mean position error for Right knee: 14.779543050312245 cm ± 4.861128264927041 cm\n",
      "Mean position error for Left ankle: 26.900030558214027 cm ± 7.665925092128105 cm\n",
      "Mean position error for Right ankle: 24.852674266635145 cm ± 9.162856095473314 cm\n",
      "Mean position error for Left elbow: 20.727773018223935 cm ± 5.422627207155338 cm\n",
      "Mean position error for Right elbow: 19.171602546132785 cm ± 5.385886638763698 cm\n",
      "Mean position error for Left wrist: 21.756933849284128 cm ± 13.032955990853763 cm\n",
      "Mean position error for Right wrist: 23.327857377731632 cm ± 11.267884067274235 cm\n",
      "Percentage of correct Left upper legs: 100.0 %\n",
      "Percentage of correct Right upper legs: 96.0 %\n",
      "Percentage of correct Left lower legs: 48.0 %\n",
      "Percentage of correct Right lower legs: 64.0 %\n",
      "Percentage of correct Left upper arms: 12.0 %\n",
      "Percentage of correct Right upper arms: 44.0 %\n",
      "Percentage of correct Left forearms: 4.0 %\n",
      "Percentage of correct Right forearms: 8.0 %\n",
      "Percentage of correct Thoraxs: 28.0 %\n",
      "Percentage of correct Left shoulders: 20.0 %\n",
      "Percentage of correct Right shoulders: 16.0 %\n",
      "Percentage of correct Left hips: 28.0 %\n",
      "Percentage of correct Right hips: 24.0 %\n",
      "Percentage of correct Left knees: 28.0 %\n",
      "Percentage of correct Right knees: 36.0 %\n",
      "Percentage of correct Left ankles: 0.0 %\n",
      "Percentage of correct Right ankles: 16.0 %\n",
      "Percentage of correct Left elbows: 4.0 %\n",
      "Percentage of correct Right elbows: 12.0 %\n",
      "Percentage of correct Left wrists: 28.0 %\n",
      "Percentage of correct Right wrists: 16.0 %\n"
     ]
    }
   ],
   "source": [
    "print_metrics()"
   ]
  },
  {
   "cell_type": "code",
   "execution_count": null,
   "id": "e85e1dd1",
   "metadata": {},
   "outputs": [],
   "source": []
  }
 ],
 "metadata": {
  "kernelspec": {
   "display_name": "Python 3 (ipykernel)",
   "language": "python",
   "name": "python3"
  },
  "language_info": {
   "codemirror_mode": {
    "name": "ipython",
    "version": 3
   },
   "file_extension": ".py",
   "mimetype": "text/x-python",
   "name": "python",
   "nbconvert_exporter": "python",
   "pygments_lexer": "ipython3",
   "version": "3.9.6"
  }
 },
 "nbformat": 4,
 "nbformat_minor": 5
}
